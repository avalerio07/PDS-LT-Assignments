{
 "cells": [
  {
   "cell_type": "markdown",
   "metadata": {},
   "source": [
    "<img src=\"images/banner.png\" style=\"width: 100%;\">"
   ]
  },
  {
   "cell_type": "code",
   "execution_count": null,
   "metadata": {
    "ExecuteTime": {
     "end_time": "2021-06-03T02:06:43.080134Z",
     "start_time": "2021-06-03T02:06:42.018477Z"
    },
    "deletable": false,
    "editable": false,
    "execution": {
     "iopub.execute_input": "2024-03-03T10:58:31.255650Z",
     "iopub.status.busy": "2024-03-03T10:58:31.254509Z",
     "iopub.status.idle": "2024-03-03T10:58:32.427504Z",
     "shell.execute_reply": "2024-03-03T10:58:32.426540Z",
     "shell.execute_reply.started": "2024-03-03T10:58:31.255586Z"
    },
    "nbgrader": {
     "cell_type": "code",
     "checksum": "19e61ce061b94d98c1bfb65bdc99149c",
     "grade": false,
     "grade_id": "cell-ddbb10941abfed2b",
     "locked": true,
     "schema_version": 3,
     "solution": false,
     "task": false
    },
    "tags": []
   },
   "outputs": [],
   "source": [
    "import numpy as np\n",
    "import pandas as pd\n",
    "import matplotlib.pyplot as plt\n",
    "from numpy.testing import (assert_equal, assert_almost_equal, \n",
    "                           assert_array_equal, assert_allclose, assert_raises)\n",
    "%matplotlib inline"
   ]
  },
  {
   "cell_type": "markdown",
   "metadata": {
    "deletable": false,
    "editable": false,
    "nbgrader": {
     "cell_type": "markdown",
     "checksum": "02bc36dac542ec0fab8dcf3d0348c06a",
     "grade": false,
     "grade_id": "cell-8d6a912a9bc99a30",
     "locked": true,
     "schema_version": 3,
     "solution": false,
     "task": false
    }
   },
   "source": [
    "## Problem 1\n",
    "Create a function `plot_pop` that accepts a list of (case-insensitive) municipality names, reads `Municipality Data - PSA.csv` and returns a `matplotlib` `Figure` that replicates the figure below. It is composed of superimposed line graphs with the $x$-axis being the census date and $y$-axis corresponding to the population. No need to convert the census dates into datetime.\n",
    "\n",
    "![](pop.png)"
   ]
  },
  {
   "cell_type": "code",
   "execution_count": null,
   "metadata": {
    "ExecuteTime": {
     "end_time": "2021-06-03T06:06:15.229620Z",
     "start_time": "2021-06-03T06:06:15.220561Z"
    },
    "deletable": false,
    "execution": {
     "iopub.execute_input": "2024-03-03T10:58:32.430236Z",
     "iopub.status.busy": "2024-03-03T10:58:32.429783Z",
     "iopub.status.idle": "2024-03-03T10:58:32.438466Z",
     "shell.execute_reply": "2024-03-03T10:58:32.436843Z",
     "shell.execute_reply.started": "2024-03-03T10:58:32.430205Z"
    },
    "nbgrader": {
     "cell_type": "code",
     "checksum": "a68bc119b0e0f54790ff5b5eab637a88",
     "grade": false,
     "grade_id": "cell-9efbd9ce5211857e",
     "locked": false,
     "schema_version": 3,
     "solution": true
    },
    "tags": []
   },
   "outputs": [],
   "source": [
    "def plot_pop(municipalities):\n",
    "    # YOUR CODE HERE\n",
    "    raise NotImplementedError()"
   ]
  },
  {
   "cell_type": "code",
   "execution_count": null,
   "metadata": {
    "ExecuteTime": {
     "end_time": "2021-06-03T06:31:01.511448Z",
     "start_time": "2021-06-03T06:31:01.227124Z"
    },
    "deletable": false,
    "editable": false,
    "execution": {
     "iopub.execute_input": "2024-03-03T10:58:32.440102Z",
     "iopub.status.busy": "2024-03-03T10:58:32.439767Z",
     "iopub.status.idle": "2024-03-03T10:58:32.813955Z",
     "shell.execute_reply": "2024-03-03T10:58:32.812936Z",
     "shell.execute_reply.started": "2024-03-03T10:58:32.440070Z"
    },
    "nbgrader": {
     "cell_type": "code",
     "checksum": "8ae62ba438a1fa103e66ddcf7c49d470",
     "grade": true,
     "grade_id": "cell-c5bdbb508117c39a",
     "locked": true,
     "points": 1,
     "schema_version": 3,
     "solution": false
    },
    "tags": []
   },
   "outputs": [],
   "source": [
    "ax = plot_pop(['CiTy Of MaNiLa', 'City of Makati', 'QUEZON CITY',\n",
    "                'city of isabela', 'Angeles City'])\n",
    "ax.figure.canvas.draw()\n",
    "assert_equal(\n",
    "    [t.get_text() for t in ax.get_xticklabels()], \n",
    "    ['May-10', 'Feb-60', 'May-75', 'May-90', 'May-00', 'May-10', '']\n",
    ")\n",
    "assert_equal(\n",
    "    [t.get_text() for t in ax.get_yticklabels()], \n",
    "    ['−0.5', '0.0', '0.5', '1.0', '1.5', '2.0', '2.5', '3.0', '3.5']\n",
    ")\n",
    "assert_equal(\n",
    "    [t.get_text() for t in ax.legend_.texts],\n",
    "    ['CiTy Of MaNiLa',\n",
    "     'City of Makati',\n",
    "     'QUEZON CITY',\n",
    "     'city of isabela',\n",
    "     'Angeles City']\n",
    ")"
   ]
  },
  {
   "cell_type": "markdown",
   "metadata": {
    "deletable": false,
    "editable": false,
    "nbgrader": {
     "cell_type": "markdown",
     "checksum": "dc32b310967fd8fc81846d800490a1f5",
     "grade": false,
     "grade_id": "cell-8e6224692095d87b",
     "locked": true,
     "schema_version": 3,
     "solution": false,
     "task": false
    }
   },
   "source": [
    "## Problem 2\n",
    "Create a function `find_max` that accepts a `province` (case-insensitive) and reads `Municipality Data - PSA.csv` then returns the municipality and census dates where the change in population is greatest. Raise `ValueError` if `province` is not found.\n",
    "\n",
    "Notes:\n",
    "* In the Philippines, administrative units typically go from Country to Region to Province to City/Municipality to Barangay, although there are exceptions\n",
    "* Rows with `is_total` = 1 correspond to the total population (excluding the cities) as computed by the Philippines Statistics Authority (PSA). Do not forget to remove these rows when calculating provincial statistics."
   ]
  },
  {
   "cell_type": "code",
   "execution_count": null,
   "metadata": {
    "ExecuteTime": {
     "end_time": "2020-04-18T05:26:27.100895Z",
     "start_time": "2020-04-18T05:26:27.089860Z"
    },
    "deletable": false,
    "execution": {
     "iopub.execute_input": "2024-03-03T10:58:32.815236Z",
     "iopub.status.busy": "2024-03-03T10:58:32.814981Z",
     "iopub.status.idle": "2024-03-03T10:58:32.822582Z",
     "shell.execute_reply": "2024-03-03T10:58:32.821602Z",
     "shell.execute_reply.started": "2024-03-03T10:58:32.815213Z"
    },
    "nbgrader": {
     "cell_type": "code",
     "checksum": "ecd521487788615d10233019f121992e",
     "grade": false,
     "grade_id": "cell-816da45ab9261b20",
     "locked": false,
     "schema_version": 3,
     "solution": true
    },
    "tags": []
   },
   "outputs": [],
   "source": [
    "def find_max(province):\n",
    "    # YOUR CODE HERE\n",
    "    raise NotImplementedError()"
   ]
  },
  {
   "cell_type": "code",
   "execution_count": null,
   "metadata": {
    "ExecuteTime": {
     "end_time": "2020-04-18T05:27:27.668165Z",
     "start_time": "2020-04-18T05:27:27.556602Z"
    },
    "deletable": false,
    "editable": false,
    "execution": {
     "iopub.execute_input": "2024-03-03T10:58:32.823833Z",
     "iopub.status.busy": "2024-03-03T10:58:32.823573Z",
     "iopub.status.idle": "2024-03-03T10:58:32.879478Z",
     "shell.execute_reply": "2024-03-03T10:58:32.877939Z",
     "shell.execute_reply.started": "2024-03-03T10:58:32.823809Z"
    },
    "nbgrader": {
     "cell_type": "code",
     "checksum": "c179cb0d7c0c6d41c938c14f0a07bbbf",
     "grade": true,
     "grade_id": "cell-e33d1d44f3b93e97",
     "locked": true,
     "points": 1,
     "schema_version": 3,
     "solution": false
    },
    "tags": []
   },
   "outputs": [],
   "source": [
    "assert_raises(ValueError, find_max, 'nowhere')\n",
    "assert_equal(\n",
    "    find_max('metropolitan manila'), \n",
    "    ('QUEZON CITY', 'May-00', 'Aug-07'))\n",
    "assert_equal(\n",
    "    find_max('Pampanga'), \n",
    "    ('ANGELES CITY', 'May-10', 'Aug-15'))"
   ]
  },
  {
   "cell_type": "markdown",
   "metadata": {
    "deletable": false,
    "editable": false,
    "nbgrader": {
     "cell_type": "markdown",
     "checksum": "76668fe1c191cabf947c74af8033cd25",
     "grade": false,
     "grade_id": "cell-0ba5279daf8f0a21",
     "locked": true,
     "schema_version": 3,
     "solution": false,
     "task": false
    }
   },
   "source": [
    "## Problem 3\n",
    "\n",
    "Create a function `most_populous` that reads `Municipality Data - PSA.csv` and returns a `pandas` `Series` of the 10 provinces with the most mean population for `Aug-15`. The index should be the name of the province and the value should be the mean population. Sort them by decreasing mean population."
   ]
  },
  {
   "cell_type": "code",
   "execution_count": null,
   "metadata": {
    "ExecuteTime": {
     "end_time": "2020-04-20T12:48:23.710910Z",
     "start_time": "2020-04-20T12:48:23.702476Z"
    },
    "deletable": false,
    "execution": {
     "iopub.execute_input": "2024-03-03T10:58:32.880849Z",
     "iopub.status.busy": "2024-03-03T10:58:32.880581Z",
     "iopub.status.idle": "2024-03-03T10:58:32.887668Z",
     "shell.execute_reply": "2024-03-03T10:58:32.886545Z",
     "shell.execute_reply.started": "2024-03-03T10:58:32.880826Z"
    },
    "nbgrader": {
     "cell_type": "code",
     "checksum": "d01ce5a70ea2ea520b09745dadf6928c",
     "grade": false,
     "grade_id": "cell-c20c8567f112435b",
     "locked": false,
     "schema_version": 3,
     "solution": true,
     "task": false
    },
    "tags": []
   },
   "outputs": [],
   "source": [
    "def most_populous():\n",
    "    # YOUR CODE HERE\n",
    "    raise NotImplementedError()"
   ]
  },
  {
   "cell_type": "code",
   "execution_count": null,
   "metadata": {
    "ExecuteTime": {
     "end_time": "2020-04-20T12:56:45.292192Z",
     "start_time": "2020-04-20T12:56:45.256332Z"
    },
    "deletable": false,
    "editable": false,
    "execution": {
     "iopub.execute_input": "2024-03-03T10:58:32.892934Z",
     "iopub.status.busy": "2024-03-03T10:58:32.892503Z",
     "iopub.status.idle": "2024-03-03T10:58:32.916035Z",
     "shell.execute_reply": "2024-03-03T10:58:32.915264Z",
     "shell.execute_reply.started": "2024-03-03T10:58:32.892894Z"
    },
    "nbgrader": {
     "cell_type": "code",
     "checksum": "9bfd1e14f940f151e5354adcde2f6a5a",
     "grade": true,
     "grade_id": "cell-0c0835cb8e11819d",
     "locked": true,
     "points": 1,
     "schema_version": 3,
     "solution": false,
     "task": false
    },
    "tags": []
   },
   "outputs": [],
   "source": [
    "mp = most_populous()\n",
    "assert_array_equal(\n",
    "    mp[:5].index,\n",
    "    ['Metropolitan Manila', 'Rizal', 'Davao del Sur', 'Cavite', 'Bulacan']\n",
    ")\n",
    "assert_allclose(\n",
    "    mp[:5].tolist(),\n",
    "    [757485.4705882353, 206016.2142857143, 161370.0625, 159926.13043478262, \n",
    "     137169.625]\n",
    ")"
   ]
  },
  {
   "cell_type": "markdown",
   "metadata": {
    "deletable": false,
    "editable": false,
    "nbgrader": {
     "cell_type": "markdown",
     "checksum": "5300c062c32b3c7faac377fc6bc6a7cf",
     "grade": false,
     "grade_id": "cell-c6053403cf941f5b",
     "locked": true,
     "schema_version": 3,
     "solution": false,
     "task": false
    },
    "tags": []
   },
   "source": [
    "## Problem 4\n",
    "\n",
    "Create a function `plot_sales_by_country` that reads `/mnt/data/public/retaildata/Online Retail.csv` and returns a matplotlib `Axes` corresponding to the figure below. Sales per transaction is the production of the unit price and quantity.\n",
    "\n",
    "![](sales.png)"
   ]
  },
  {
   "cell_type": "code",
   "execution_count": null,
   "metadata": {
    "deletable": false,
    "execution": {
     "iopub.execute_input": "2024-03-03T10:58:32.917311Z",
     "iopub.status.busy": "2024-03-03T10:58:32.917046Z",
     "iopub.status.idle": "2024-03-03T10:58:32.923224Z",
     "shell.execute_reply": "2024-03-03T10:58:32.922192Z",
     "shell.execute_reply.started": "2024-03-03T10:58:32.917288Z"
    },
    "nbgrader": {
     "cell_type": "code",
     "checksum": "3d7fc62f67fe8cf0fa377335929b8e7d",
     "grade": false,
     "grade_id": "cell-e80dccf6b01c4272",
     "locked": false,
     "schema_version": 3,
     "solution": true,
     "task": false
    },
    "tags": []
   },
   "outputs": [],
   "source": [
    "def plot_sales_by_country():\n",
    "    # YOUR CODE HERE\n",
    "    raise NotImplementedError()"
   ]
  },
  {
   "cell_type": "code",
   "execution_count": null,
   "metadata": {
    "deletable": false,
    "editable": false,
    "execution": {
     "iopub.execute_input": "2024-03-03T10:58:32.924463Z",
     "iopub.status.busy": "2024-03-03T10:58:32.924167Z",
     "iopub.status.idle": "2024-03-03T10:58:34.046280Z",
     "shell.execute_reply": "2024-03-03T10:58:34.045126Z",
     "shell.execute_reply.started": "2024-03-03T10:58:32.924434Z"
    },
    "nbgrader": {
     "cell_type": "code",
     "checksum": "f05a6ccc38fc56d95cc0cba3483b8b77",
     "grade": true,
     "grade_id": "cell-6a561931fcae8658",
     "locked": true,
     "points": 1,
     "schema_version": 3,
     "solution": false,
     "task": false
    },
    "tags": []
   },
   "outputs": [],
   "source": [
    "ax = plot_sales_by_country()\n",
    "assert_equal(ax.get_xlabel(), 'Sales (GBP)')\n",
    "assert_equal(ax.get_ylabel(), 'Country')\n",
    "assert_equal(\n",
    "    [text.get_text() for text in ax.get_xticklabels()],\n",
    "    ['0', '250', '500', '750', '1000', '1250', '1500', '1750', '2000']\n",
    ")\n",
    "assert_equal(\n",
    "    [text.get_text() for text in ax.get_yticklabels()],\n",
    "    ['Saudi Arabia',\n",
    "     'Bahrain',\n",
    "     'Czech Republic',\n",
    "     'RSA',\n",
    "     'Brazil',\n",
    "     'European Community',\n",
    "     'Lithuania',\n",
    "     'Lebanon',\n",
    "     'USA',\n",
    "     'United Arab Emirates']\n",
    ")"
   ]
  },
  {
   "cell_type": "markdown",
   "metadata": {
    "deletable": false,
    "editable": false,
    "nbgrader": {
     "cell_type": "markdown",
     "checksum": "83cd9a13d1f31d1cb860e279788d2d24",
     "grade": false,
     "grade_id": "cell-2d499e0277e1c7b0",
     "locked": true,
     "schema_version": 3,
     "solution": false,
     "task": false
    },
    "tags": []
   },
   "source": [
    "## Problem 5\n",
    "\n",
    "Create a function `get_invoices_per_month` that reads `/mnt/data/public/retaildata/Online Retail.csv` and returns a `pandas` `Series` where the index is the invoice month and the value is the number of invoices for that month."
   ]
  },
  {
   "cell_type": "code",
   "execution_count": null,
   "metadata": {
    "deletable": false,
    "execution": {
     "iopub.execute_input": "2024-03-03T10:58:34.047968Z",
     "iopub.status.busy": "2024-03-03T10:58:34.047700Z",
     "iopub.status.idle": "2024-03-03T10:58:34.054316Z",
     "shell.execute_reply": "2024-03-03T10:58:34.053588Z",
     "shell.execute_reply.started": "2024-03-03T10:58:34.047944Z"
    },
    "nbgrader": {
     "cell_type": "code",
     "checksum": "97344f3b23d1d57bc3d912f47a10841b",
     "grade": false,
     "grade_id": "cell-ad78e6e872b71bb7",
     "locked": false,
     "schema_version": 3,
     "solution": true,
     "task": false
    },
    "tags": []
   },
   "outputs": [],
   "source": [
    "def get_invoices_per_month():\n",
    "    # YOUR CODE HERE\n",
    "    raise NotImplementedError()"
   ]
  },
  {
   "cell_type": "code",
   "execution_count": null,
   "metadata": {
    "deletable": false,
    "editable": false,
    "execution": {
     "iopub.execute_input": "2024-03-03T10:58:34.055396Z",
     "iopub.status.busy": "2024-03-03T10:58:34.055175Z",
     "iopub.status.idle": "2024-03-03T10:58:36.471172Z",
     "shell.execute_reply": "2024-03-03T10:58:36.470296Z",
     "shell.execute_reply.started": "2024-03-03T10:58:34.055375Z"
    },
    "nbgrader": {
     "cell_type": "code",
     "checksum": "d77d6cd9b12e6e61f2f38a574a9329c0",
     "grade": true,
     "grade_id": "cell-edd08e3163f5eb59",
     "locked": true,
     "points": 1,
     "schema_version": 3,
     "solution": false,
     "task": false
    },
    "tags": []
   },
   "outputs": [],
   "source": [
    "invoices = get_invoices_per_month()\n",
    "assert_equal(len(invoices), 12)\n",
    "assert_equal(invoices.index.tolist(), [1, 2, 3, 4, 5, 6, 7, 8, 9, 10, 11, 12])\n",
    "assert_equal(invoices[:5].tolist(), [1914, 1647, 2043, 1821, 2179])"
   ]
  },
  {
   "cell_type": "markdown",
   "metadata": {},
   "source": [
    "## Problem 6\n",
    "\n",
    "Create a function `get_invoices_by_day_hour` that reads `/mnt/data/public/retaildata/Online Retail.csv` and returns a `pandas` `DataFrame` with index equal to the invoice day of the week, columns equal to invoice hour of day, and values equal to the number of invoices for that day and hour."
   ]
  },
  {
   "cell_type": "code",
   "execution_count": null,
   "metadata": {
    "deletable": false,
    "execution": {
     "iopub.execute_input": "2024-03-03T10:58:36.472438Z",
     "iopub.status.busy": "2024-03-03T10:58:36.472199Z",
     "iopub.status.idle": "2024-03-03T10:58:36.478736Z",
     "shell.execute_reply": "2024-03-03T10:58:36.477941Z",
     "shell.execute_reply.started": "2024-03-03T10:58:36.472416Z"
    },
    "nbgrader": {
     "cell_type": "code",
     "checksum": "d6e43cc827123fda0c76e8d179ecfc2c",
     "grade": false,
     "grade_id": "cell-56f7140daf0dca28",
     "locked": false,
     "schema_version": 3,
     "solution": true,
     "task": false
    },
    "tags": []
   },
   "outputs": [],
   "source": [
    "def get_invoices_by_day_hour():\n",
    "    # YOUR CODE HERE\n",
    "    raise NotImplementedError()"
   ]
  },
  {
   "cell_type": "code",
   "execution_count": null,
   "metadata": {
    "deletable": false,
    "editable": false,
    "execution": {
     "iopub.execute_input": "2024-03-03T10:58:36.479926Z",
     "iopub.status.busy": "2024-03-03T10:58:36.479707Z",
     "iopub.status.idle": "2024-03-03T10:58:38.927402Z",
     "shell.execute_reply": "2024-03-03T10:58:38.926110Z",
     "shell.execute_reply.started": "2024-03-03T10:58:36.479906Z"
    },
    "nbgrader": {
     "cell_type": "code",
     "checksum": "d485b1e9138fafe6ff83cfdec01d9927",
     "grade": true,
     "grade_id": "cell-029d718ead0e793d",
     "locked": true,
     "points": 1,
     "schema_version": 3,
     "solution": false,
     "task": false
    },
    "tags": []
   },
   "outputs": [],
   "source": [
    "df_pivot = get_invoices_by_day_hour()\n",
    "assert_equal(df_pivot.shape, (7, 15))\n",
    "assert_equal(\n",
    "    df_pivot.index.tolist(),\n",
    "    ['Mon', 'Tue', 'Wed', 'Thu', 'Fri', 'Sat', 'Sun']\n",
    ")\n",
    "assert_equal(\n",
    "    df_pivot.columns.tolist(),\n",
    "    [6, 7, 8, 9, 10, 11, 12, 13, 14, 15, 16, 17, 18, 19, 20]\n",
    ")\n",
    "assert_equal(\n",
    "    df_pivot.iloc[0].tolist(),\n",
    "    [0, 7, 101, 303, 453, 466, 625, 560, 450, 472, 302, 148, 20, 23, 2]\n",
    ")"
   ]
  },
  {
   "cell_type": "markdown",
   "metadata": {
    "deletable": false,
    "editable": false,
    "nbgrader": {
     "cell_type": "markdown",
     "checksum": "ecdc881e07f0462698c3b40d13fddeca",
     "grade": false,
     "grade_id": "cell-92e06b4593638db2",
     "locked": true,
     "schema_version": 3,
     "solution": false,
     "task": false
    },
    "tags": []
   },
   "source": [
    "## Problem 7\n",
    "\n",
    "Create a function `get_mean_rating_per_year` that reads the first 10000 data lines of `/mnt/data/public/book-crossing/BX-Books.csv` and all of `/mnt/data/public/book-crossing/BX-Book-Ratings.csv` then returns a `pandas` `Series` where the index corresponds to `Year-Of-Publication`, in ascending numerical order, and the values correspond to the mean `Book-Rating` for that year. Both files follow `latin1` encoding. Skip bad lines."
   ]
  },
  {
   "cell_type": "code",
   "execution_count": null,
   "metadata": {
    "deletable": false,
    "execution": {
     "iopub.execute_input": "2024-03-03T10:58:38.928798Z",
     "iopub.status.busy": "2024-03-03T10:58:38.928529Z",
     "iopub.status.idle": "2024-03-03T10:58:38.935398Z",
     "shell.execute_reply": "2024-03-03T10:58:38.934605Z",
     "shell.execute_reply.started": "2024-03-03T10:58:38.928774Z"
    },
    "nbgrader": {
     "cell_type": "code",
     "checksum": "dba5d1d0ddf7cf9821f31ecadacc616c",
     "grade": false,
     "grade_id": "cell-797d2716eaa7034d",
     "locked": false,
     "schema_version": 3,
     "solution": true,
     "task": false
    },
    "tags": []
   },
   "outputs": [],
   "source": [
    "def get_mean_rating_per_year():\n",
    "    # YOUR CODE HERE\n",
    "    raise NotImplementedError()"
   ]
  },
  {
   "cell_type": "code",
   "execution_count": null,
   "metadata": {
    "deletable": false,
    "editable": false,
    "execution": {
     "iopub.execute_input": "2024-03-03T10:58:38.936592Z",
     "iopub.status.busy": "2024-03-03T10:58:38.936346Z",
     "iopub.status.idle": "2024-03-03T10:58:40.278052Z",
     "shell.execute_reply": "2024-03-03T10:58:40.277198Z",
     "shell.execute_reply.started": "2024-03-03T10:58:38.936569Z"
    },
    "nbgrader": {
     "cell_type": "code",
     "checksum": "c06a3383f9fa0397d6c1032315a8fe71",
     "grade": true,
     "grade_id": "cell-b6fcc4800be404f3",
     "locked": true,
     "points": 1,
     "schema_version": 3,
     "solution": false,
     "task": false
    },
    "tags": []
   },
   "outputs": [],
   "source": [
    "mean_ratings = get_mean_rating_per_year()\n",
    "assert_equal(len(mean_ratings), 62)\n",
    "assert_equal(\n",
    "    mean_ratings.index[:10].tolist(),\n",
    "    [0, 1920, 1937, 1940, 1941, 1942, 1950, 1951, 1952, 1953]\n",
    ")\n",
    "assert_allclose(\n",
    "    mean_ratings[:10].tolist(),\n",
    "    [3.48782373405489,\n",
    "     3.96,\n",
    "     1.6666666666666667,\n",
    "     2.5,\n",
    "     7.0,\n",
    "     2.8125,\n",
    "     3.8,\n",
    "     0.0,\n",
    "     5.5,\n",
    "     2.5]\n",
    ")"
   ]
  },
  {
   "cell_type": "markdown",
   "metadata": {
    "deletable": false,
    "editable": false,
    "nbgrader": {
     "cell_type": "markdown",
     "checksum": "94659496c84ecf48e5e0504f6df67394",
     "grade": false,
     "grade_id": "cell-e7bc6de05d857816",
     "locked": true,
     "schema_version": 3,
     "solution": false,
     "task": false
    }
   },
   "source": [
    "## Problem 8\n",
    "\n",
    "Create a function `hourly_hashtag` that reads the first 1M data lines of `/mnt/data/public/nowplaying-rs/nowplaying_rs_dataset/user_track_hashtag_timestamp.csv` and returns a pandas data frame with columns `hashtag`, `created_at` and `count`. The input `created_at` column is in UTC. The `count` column contains the number of `created_at`, binned hourly and in Philippine time, for that `hashtag`. Sort by `hashtag` then by `created_at`. "
   ]
  },
  {
   "cell_type": "code",
   "execution_count": null,
   "metadata": {
    "ExecuteTime": {
     "end_time": "2021-06-03T03:33:22.392067Z",
     "start_time": "2021-06-03T03:33:22.382747Z"
    },
    "deletable": false,
    "execution": {
     "iopub.execute_input": "2024-03-03T10:58:40.279556Z",
     "iopub.status.busy": "2024-03-03T10:58:40.279276Z",
     "iopub.status.idle": "2024-03-03T10:58:40.285831Z",
     "shell.execute_reply": "2024-03-03T10:58:40.285116Z",
     "shell.execute_reply.started": "2024-03-03T10:58:40.279532Z"
    },
    "nbgrader": {
     "cell_type": "code",
     "checksum": "b1501cd9712f07fc4cc1c3942bb2a66d",
     "grade": false,
     "grade_id": "cell-7db5228e1ccea4eb",
     "locked": false,
     "schema_version": 3,
     "solution": true,
     "task": false
    },
    "tags": []
   },
   "outputs": [],
   "source": [
    "def hourly_hashtag():\n",
    "    # YOUR CODE HERE\n",
    "    raise NotImplementedError()"
   ]
  },
  {
   "cell_type": "code",
   "execution_count": null,
   "metadata": {
    "ExecuteTime": {
     "end_time": "2021-06-03T03:41:41.646738Z",
     "start_time": "2021-06-03T03:41:39.803093Z"
    },
    "deletable": false,
    "editable": false,
    "execution": {
     "iopub.execute_input": "2024-03-03T10:58:40.287019Z",
     "iopub.status.busy": "2024-03-03T10:58:40.286790Z",
     "iopub.status.idle": "2024-03-03T10:58:43.065868Z",
     "shell.execute_reply": "2024-03-03T10:58:43.064357Z",
     "shell.execute_reply.started": "2024-03-03T10:58:40.286999Z"
    },
    "nbgrader": {
     "cell_type": "code",
     "checksum": "08e10100b74f3a8239eae6dbd5a15108",
     "grade": true,
     "grade_id": "cell-73457b59e6f6796e",
     "locked": true,
     "points": 1,
     "schema_version": 3,
     "solution": false,
     "task": false
    },
    "tags": []
   },
   "outputs": [],
   "source": [
    "df_hashtag = hourly_hashtag()\n",
    "assert_equal(df_hashtag.shape, (73050, 3))\n",
    "assert_equal(df_hashtag.columns.tolist(), ['hashtag', 'created_at', 'count'])\n",
    "assert_equal(\n",
    "    df_hashtag[:10].values.tolist(),\n",
    "    [['089DJ', pd.Timestamp('2014-01-05 08:00:00+0800', tz='Asia/Manila'), 1],\n",
    "     ['089DJ', pd.Timestamp('2014-01-05 09:00:00+0800', tz='Asia/Manila'), 2],\n",
    "     ['089DJ', pd.Timestamp('2014-01-12 08:00:00+0800', tz='Asia/Manila'), 3],\n",
    "     ['089DJ', pd.Timestamp('2014-01-12 09:00:00+0800', tz='Asia/Manila'), 4],\n",
    "     ['089DJ', pd.Timestamp('2014-01-12 10:00:00+0800', tz='Asia/Manila'), 9],\n",
    "     ['089DJ', pd.Timestamp('2014-01-12 11:00:00+0800', tz='Asia/Manila'), 4],\n",
    "     ['0_Count', pd.Timestamp('2014-01-07 18:00:00+0800', tz='Asia/Manila'), \n",
    "      1],\n",
    "     ['1038FM', pd.Timestamp('2014-01-05 22:00:00+0800', tz='Asia/Manila'), \n",
    "      1],\n",
    "     ['1093KFKU', pd.Timestamp('2014-01-01 14:00:00+0800', tz='Asia/Manila'),\n",
    "      2],\n",
    "     ['1093KFKU', pd.Timestamp('2014-01-01 19:00:00+0800', tz='Asia/Manila'), \n",
    "      1]]\n",
    ")"
   ]
  },
  {
   "cell_type": "markdown",
   "metadata": {
    "deletable": false,
    "editable": false,
    "nbgrader": {
     "cell_type": "markdown",
     "checksum": "3f2dc3fa9023ef36d0da4f9c033ab772",
     "grade": false,
     "grade_id": "cell-c00d419b3e0436bc",
     "locked": true,
     "schema_version": 3,
     "solution": false,
     "task": false
    }
   },
   "source": [
    "## Problem 9\n",
    "\n",
    "Create a function `aisle_counts` that reads the first 1M data lines of `/mnt/data/public/instacart/instacart_2017_05_01/order_products__prior.csv` and returns a `pandas` `Series` of the number of orders per aisle sorted by decreasing number of orders. Hint: you should look at other files in the directory that you can use."
   ]
  },
  {
   "cell_type": "code",
   "execution_count": null,
   "metadata": {
    "ExecuteTime": {
     "end_time": "2020-04-21T00:35:32.345295Z",
     "start_time": "2020-04-21T00:35:32.332200Z"
    },
    "deletable": false,
    "execution": {
     "iopub.execute_input": "2024-03-03T10:58:43.067956Z",
     "iopub.status.busy": "2024-03-03T10:58:43.067690Z",
     "iopub.status.idle": "2024-03-03T10:58:43.076033Z",
     "shell.execute_reply": "2024-03-03T10:58:43.074982Z",
     "shell.execute_reply.started": "2024-03-03T10:58:43.067933Z"
    },
    "nbgrader": {
     "cell_type": "code",
     "checksum": "ac2582d5e5b4ea5399bb28d4cc69a1d9",
     "grade": false,
     "grade_id": "cell-140254da5863eaba",
     "locked": false,
     "schema_version": 3,
     "solution": true,
     "task": false
    }
   },
   "outputs": [],
   "source": [
    "def aisle_counts():\n",
    "    # YOUR CODE HERE\n",
    "    raise NotImplementedError()"
   ]
  },
  {
   "cell_type": "code",
   "execution_count": null,
   "metadata": {
    "ExecuteTime": {
     "end_time": "2020-04-21T00:41:55.286019Z",
     "start_time": "2020-04-21T00:41:53.553697Z"
    },
    "deletable": false,
    "editable": false,
    "execution": {
     "iopub.execute_input": "2024-03-03T10:58:43.078129Z",
     "iopub.status.busy": "2024-03-03T10:58:43.077773Z",
     "iopub.status.idle": "2024-03-03T10:58:43.936548Z",
     "shell.execute_reply": "2024-03-03T10:58:43.935453Z",
     "shell.execute_reply.started": "2024-03-03T10:58:43.078096Z"
    },
    "nbgrader": {
     "cell_type": "code",
     "checksum": "2a59faa818660ca233abcd160851b031",
     "grade": true,
     "grade_id": "cell-a4f213c69e35ce72",
     "locked": true,
     "points": 1,
     "schema_version": 3,
     "solution": false,
     "task": false
    },
    "tags": []
   },
   "outputs": [],
   "source": [
    "ac = aisle_counts()\n",
    "assert_array_equal(\n",
    "    ac.index[:10],\n",
    "    ['fresh fruits', 'fresh vegetables', 'packaged vegetables fruits',\n",
    "     'yogurt', 'packaged cheese', 'milk', 'water seltzer sparkling water',\n",
    "     'chips pretzels', 'soy lactosefree', 'bread']\n",
    ")\n",
    "assert_array_equal(\n",
    "    ac[:10].to_list(),\n",
    "    [112409, 105047, 54781, 44674, 30184, 27428, 25789, 22190, 19839, 18091]\n",
    ")"
   ]
  },
  {
   "cell_type": "markdown",
   "metadata": {
    "deletable": false,
    "editable": false,
    "nbgrader": {
     "cell_type": "markdown",
     "checksum": "717ce038d474ec98b2d8188f630d9c26",
     "grade": false,
     "grade_id": "cell-8cd3d03dceeda286",
     "locked": true,
     "schema_version": 3,
     "solution": false,
     "task": false
    }
   },
   "source": [
    "## Problem 10\n",
    "\n",
    "Create a function `from_to` that reads the first 1000 data lines of `/mnt/data/public/wikipedia/clickstream/clickstream/2017-11/clickstream-enwiki-2017-11.tsv.gz` and returns a `pandas` `DataFrame` where the index are the unique values of the source column (first column) sorted in lexicographical order, the columns are the unique values of the destination column (second column) sorted in lexicographical order and the values are the corresponding views (fourth column). Set the value to 0 if it wasn't viewed."
   ]
  },
  {
   "cell_type": "code",
   "execution_count": null,
   "metadata": {
    "ExecuteTime": {
     "end_time": "2020-04-21T00:57:35.538066Z",
     "start_time": "2020-04-21T00:57:35.531436Z"
    },
    "deletable": false,
    "execution": {
     "iopub.execute_input": "2024-03-03T10:58:43.937933Z",
     "iopub.status.busy": "2024-03-03T10:58:43.937708Z",
     "iopub.status.idle": "2024-03-03T10:58:43.943970Z",
     "shell.execute_reply": "2024-03-03T10:58:43.943194Z",
     "shell.execute_reply.started": "2024-03-03T10:58:43.937914Z"
    },
    "nbgrader": {
     "cell_type": "code",
     "checksum": "199582391bbc979ac3630a1bfff8eb03",
     "grade": false,
     "grade_id": "cell-48038f4318286406",
     "locked": false,
     "schema_version": 3,
     "solution": true,
     "task": false
    },
    "tags": []
   },
   "outputs": [],
   "source": [
    "def from_to():\n",
    "    # YOUR CODE HERE\n",
    "    raise NotImplementedError()"
   ]
  },
  {
   "cell_type": "code",
   "execution_count": null,
   "metadata": {
    "ExecuteTime": {
     "end_time": "2020-04-21T01:11:10.836291Z",
     "start_time": "2020-04-21T01:11:10.772849Z"
    },
    "deletable": false,
    "editable": false,
    "execution": {
     "iopub.execute_input": "2024-03-03T10:58:43.945043Z",
     "iopub.status.busy": "2024-03-03T10:58:43.944821Z",
     "iopub.status.idle": "2024-03-03T10:58:43.974834Z",
     "shell.execute_reply": "2024-03-03T10:58:43.974001Z",
     "shell.execute_reply.started": "2024-03-03T10:58:43.945023Z"
    },
    "nbgrader": {
     "cell_type": "code",
     "checksum": "aa47af9b593b177af4bf6412e153366a",
     "grade": true,
     "grade_id": "cell-7458d465b09ac705",
     "locked": true,
     "points": 1,
     "schema_version": 3,
     "solution": false,
     "task": false
    },
    "tags": []
   },
   "outputs": [],
   "source": [
    "df_ft = from_to()\n",
    "assert_equal(df_ft.shape, (621, 171))\n",
    "assert_array_equal(\n",
    "    df_ft.index[:10],\n",
    "    ['1._FSV_Mainz_05', '13_Reasons_Why', '1939_in_film', '1970_in_music',\n",
    "     '1976_Formula_One_season', '1976_in_Irish_television',\n",
    "     '1977_in_Ireland', '1977_in_television', '1980s', '1990_in_film']\n",
    ")\n",
    "assert_array_equal(\n",
    "    df_ft.columns[:10],\n",
    "    ['1921_Navy_Midshipmen_football_team', '1927_in_Turkey',\n",
    "     '1947–48_Scottish_Division_Three', '1958_in_association_football',\n",
    "     '1977_in_Irish_television',\n",
    "     \"2002_Pan_Pacific_Swimming_Championships_–_Women's_50_metre_freestyle\",\n",
    "     '2010_Sony_Ericsson_Open', '2011_UCI_World_Tour',\n",
    "     '2012_Oregon_State_Beavers_football_team',\n",
    "     '2015_World_Polo_Championship']\n",
    ")"
   ]
  },
  {
   "cell_type": "markdown",
   "metadata": {},
   "source": [
    "<img src=\"images/banner-down.png\" style=\"width: 100%;\">"
   ]
  }
 ],
 "metadata": {
  "kernelspec": {
   "display_name": "Python 3 (ipykernel)",
   "language": "python",
   "name": "python3"
  },
  "language_info": {
   "codemirror_mode": {
    "name": "ipython",
    "version": 3
   },
   "file_extension": ".py",
   "mimetype": "text/x-python",
   "name": "python",
   "nbconvert_exporter": "python",
   "pygments_lexer": "ipython3",
   "version": "3.10.12"
  },
  "toc": {
   "base_numbering": 1,
   "nav_menu": {},
   "number_sections": false,
   "sideBar": true,
   "skip_h1_title": false,
   "title_cell": "Table of Contents",
   "title_sidebar": "Contents",
   "toc_cell": false,
   "toc_position": {},
   "toc_section_display": true,
   "toc_window_display": false
  }
 },
 "nbformat": 4,
 "nbformat_minor": 4
}
