{
 "cells": [
  {
   "cell_type": "markdown",
   "metadata": {},
   "source": [
    "<img src=\"images/banner.png\" style=\"width: 100%;\">"
   ]
  },
  {
   "cell_type": "code",
   "execution_count": null,
   "metadata": {
    "ExecuteTime": {
     "end_time": "2021-05-28T08:08:50.130597Z",
     "start_time": "2021-05-28T08:08:49.716180Z"
    },
    "deletable": false,
    "editable": false,
    "execution": {
     "iopub.execute_input": "2024-03-03T10:53:39.471539Z",
     "iopub.status.busy": "2024-03-03T10:53:39.470361Z",
     "iopub.status.idle": "2024-03-03T10:53:40.168466Z",
     "shell.execute_reply": "2024-03-03T10:53:40.166864Z",
     "shell.execute_reply.started": "2024-03-03T10:53:39.471470Z"
    },
    "nbgrader": {
     "cell_type": "code",
     "checksum": "c28a49a8f112386f36ec110c7ba7f1af",
     "grade": false,
     "grade_id": "cell-2af128eb8aabbb4d",
     "locked": true,
     "schema_version": 3,
     "solution": false,
     "task": false
    },
    "tags": []
   },
   "outputs": [],
   "source": [
    "import numpy as np\n",
    "import pandas as pd\n",
    "from numpy.testing import assert_equal, assert_allclose"
   ]
  },
  {
   "cell_type": "markdown",
   "metadata": {
    "deletable": false,
    "editable": false,
    "nbgrader": {
     "cell_type": "markdown",
     "checksum": "0aab4cf07cc36bfc46400219892058c6",
     "grade": false,
     "grade_id": "cell-6afc28e57937b743",
     "locked": true,
     "schema_version": 3,
     "solution": false,
     "task": false
    }
   },
   "source": [
    "## Problem 1\n",
    "\n",
    "Create a function `double_work` that accepts a pandas data frame `df` with a time series index and columns `a` and `b`. It modifies `df` such that the value of `a` from 9am to 5pm (inclusive) of 1 Jan 2021 is double the value of `b` for those hours."
   ]
  },
  {
   "cell_type": "code",
   "execution_count": null,
   "metadata": {
    "ExecuteTime": {
     "end_time": "2021-05-30T02:32:13.201408Z",
     "start_time": "2021-05-30T02:32:13.195481Z"
    },
    "deletable": false,
    "execution": {
     "iopub.execute_input": "2024-03-03T10:53:40.170117Z",
     "iopub.status.busy": "2024-03-03T10:53:40.169632Z",
     "iopub.status.idle": "2024-03-03T10:53:40.177452Z",
     "shell.execute_reply": "2024-03-03T10:53:40.175654Z",
     "shell.execute_reply.started": "2024-03-03T10:53:40.170081Z"
    },
    "nbgrader": {
     "cell_type": "code",
     "checksum": "c0364b1df9256704152096f61558e8ef",
     "grade": false,
     "grade_id": "cell-0acb5a75f001754f",
     "locked": false,
     "schema_version": 3,
     "solution": true,
     "task": false
    },
    "tags": []
   },
   "outputs": [],
   "source": [
    "def double_work(df):\n",
    "    # YOUR CODE HERE\n",
    "    raise NotImplementedError()"
   ]
  },
  {
   "cell_type": "code",
   "execution_count": null,
   "metadata": {
    "ExecuteTime": {
     "end_time": "2021-05-30T02:46:18.660244Z",
     "start_time": "2021-05-30T02:46:18.624264Z"
    },
    "deletable": false,
    "editable": false,
    "execution": {
     "iopub.execute_input": "2024-03-03T10:53:40.183891Z",
     "iopub.status.busy": "2024-03-03T10:53:40.182487Z",
     "iopub.status.idle": "2024-03-03T10:53:40.215906Z",
     "shell.execute_reply": "2024-03-03T10:53:40.214651Z",
     "shell.execute_reply.started": "2024-03-03T10:53:40.183823Z"
    },
    "nbgrader": {
     "cell_type": "code",
     "checksum": "ca161293d9b74b2215a16d6760c7a3bf",
     "grade": true,
     "grade_id": "cell-17550f5d3c0e0259",
     "locked": true,
     "points": 1,
     "schema_version": 3,
     "solution": false,
     "task": false
    },
    "tags": []
   },
   "outputs": [],
   "source": [
    "df = pd.DataFrame(\n",
    "    {\n",
    "        'a': range(24), \n",
    "        'b': np.linspace(1, 100, 24)\n",
    "    },\n",
    "        index=pd.date_range('2021-01-01 00:00', '2021-01-01 23:00', freq='H')\n",
    ")\n",
    "double_work(df)\n",
    "assert_equal(\n",
    "    df.index[:10].tolist(),\n",
    "    [pd.Timestamp('2021-01-01 00:00:00'),\n",
    "     pd.Timestamp('2021-01-01 01:00:00'),\n",
    "     pd.Timestamp('2021-01-01 02:00:00'),\n",
    "     pd.Timestamp('2021-01-01 03:00:00'),\n",
    "     pd.Timestamp('2021-01-01 04:00:00'),\n",
    "     pd.Timestamp('2021-01-01 05:00:00'),\n",
    "     pd.Timestamp('2021-01-01 06:00:00'),\n",
    "     pd.Timestamp('2021-01-01 07:00:00'),\n",
    "     pd.Timestamp('2021-01-01 08:00:00'),\n",
    "     pd.Timestamp('2021-01-01 09:00:00')]\n",
    ")\n",
    "assert_allclose(\n",
    "    df.iloc[:10].values,\n",
    "    [[ 0.        ,  1.        ],\n",
    "     [ 1.        ,  5.30434783],\n",
    "     [ 2.        ,  9.60869565],\n",
    "     [ 3.        , 13.91304348],\n",
    "     [ 4.        , 18.2173913 ],\n",
    "     [ 5.        , 22.52173913],\n",
    "     [ 6.        , 26.82608696],\n",
    "     [ 7.        , 31.13043478],\n",
    "     [ 8.        , 35.43478261],\n",
    "     [79.47826087, 39.73913043]]\n",
    ")"
   ]
  },
  {
   "cell_type": "markdown",
   "metadata": {
    "ExecuteTime": {
     "end_time": "2021-05-29T09:23:46.381357Z",
     "start_time": "2021-05-29T09:23:46.377232Z"
    },
    "deletable": false,
    "editable": false,
    "nbgrader": {
     "cell_type": "markdown",
     "checksum": "4e5935d5c058c86455a1f81a469847db",
     "grade": false,
     "grade_id": "cell-3da5244c27a4736e",
     "locked": true,
     "schema_version": 3,
     "solution": false,
     "task": false
    }
   },
   "source": [
    "## Problem 2\n",
    "\n",
    "Create a function `hourly_mem_usage` that reads `mem.csv` and returns the mean hourly memory usage in Philippine time (UTC+8) as a pandas time series. The first column of `mem.csv` is the time in UTC and the second column is the memory usage in bytes. Each interval is closed on the left but open on the right."
   ]
  },
  {
   "cell_type": "code",
   "execution_count": null,
   "metadata": {
    "ExecuteTime": {
     "end_time": "2021-05-29T09:27:48.152541Z",
     "start_time": "2021-05-29T09:27:48.146147Z"
    },
    "deletable": false,
    "execution": {
     "iopub.execute_input": "2024-03-03T10:53:40.217237Z",
     "iopub.status.busy": "2024-03-03T10:53:40.216986Z",
     "iopub.status.idle": "2024-03-03T10:53:40.222473Z",
     "shell.execute_reply": "2024-03-03T10:53:40.221673Z",
     "shell.execute_reply.started": "2024-03-03T10:53:40.217214Z"
    },
    "nbgrader": {
     "cell_type": "code",
     "checksum": "b075c9095095c08d290857cc01093018",
     "grade": false,
     "grade_id": "cell-2ab74f3afc7e2594",
     "locked": false,
     "schema_version": 3,
     "solution": true,
     "task": false
    },
    "tags": []
   },
   "outputs": [],
   "source": [
    "def hourly_mem_usage():\n",
    "    # YOUR CODE HERE\n",
    "    raise NotImplementedError()"
   ]
  },
  {
   "cell_type": "code",
   "execution_count": null,
   "metadata": {
    "ExecuteTime": {
     "end_time": "2021-05-29T09:43:36.356172Z",
     "start_time": "2021-05-29T09:43:36.315018Z"
    },
    "deletable": false,
    "editable": false,
    "execution": {
     "iopub.execute_input": "2024-03-03T10:53:40.223632Z",
     "iopub.status.busy": "2024-03-03T10:53:40.223399Z",
     "iopub.status.idle": "2024-03-03T10:53:40.278011Z",
     "shell.execute_reply": "2024-03-03T10:53:40.276262Z",
     "shell.execute_reply.started": "2024-03-03T10:53:40.223610Z"
    },
    "nbgrader": {
     "cell_type": "code",
     "checksum": "a544ab85756793acb294dc0df408f650",
     "grade": true,
     "grade_id": "cell-2df0e3464012ace8",
     "locked": true,
     "points": 1,
     "schema_version": 3,
     "solution": false,
     "task": false
    },
    "tags": []
   },
   "outputs": [],
   "source": [
    "hmu = hourly_mem_usage()\n",
    "assert_equal(len(hmu), 49)\n",
    "assert_equal(\n",
    "    hmu.index[:10].tolist(),\n",
    "    [pd.Timestamp('2021-05-28 00:00:00+0800', tz='Asia/Manila'),\n",
    "     pd.Timestamp('2021-05-28 01:00:00+0800', tz='Asia/Manila'),\n",
    "     pd.Timestamp('2021-05-28 02:00:00+0800', tz='Asia/Manila'),\n",
    "     pd.Timestamp('2021-05-28 03:00:00+0800', tz='Asia/Manila'),\n",
    "     pd.Timestamp('2021-05-28 04:00:00+0800', tz='Asia/Manila'),\n",
    "     pd.Timestamp('2021-05-28 05:00:00+0800', tz='Asia/Manila'),\n",
    "     pd.Timestamp('2021-05-28 06:00:00+0800', tz='Asia/Manila'),\n",
    "     pd.Timestamp('2021-05-28 07:00:00+0800', tz='Asia/Manila'),\n",
    "     pd.Timestamp('2021-05-28 08:00:00+0800', tz='Asia/Manila'),\n",
    "     pd.Timestamp('2021-05-28 09:00:00+0800', tz='Asia/Manila')]\n",
    ")\n",
    "assert_allclose(\n",
    "    hmu[:10].tolist(),\n",
    "    [369325498368.0,\n",
    "     389165290837.3333,\n",
    "     394183460454.4,\n",
    "     388326653132.8,\n",
    "     390690503065.6,\n",
    "     391548573832.5333,\n",
    "     389338755072.0,\n",
    "     389219362406.4,\n",
    "     390718947328.0,\n",
    "     375491907037.86664]\n",
    ")"
   ]
  },
  {
   "cell_type": "markdown",
   "metadata": {
    "deletable": false,
    "editable": false,
    "nbgrader": {
     "cell_type": "markdown",
     "checksum": "49d274136c0aeda9d6237c92de495711",
     "grade": false,
     "grade_id": "cell-2444a25a728640d8",
     "locked": true,
     "schema_version": 3,
     "solution": false,
     "task": false
    }
   },
   "source": [
    "## Problem 3\n",
    "\n",
    "Create a function `daily_mem_usage` that reads `mem.csv` and returns the mean daily memory usage as a pandas time series with a daily period index. The first column of `mem.csv` is the time and the second column is the memory usage in bytes. Each interval is closed on the left but open on the right."
   ]
  },
  {
   "cell_type": "code",
   "execution_count": null,
   "metadata": {
    "ExecuteTime": {
     "end_time": "2021-05-30T03:21:33.035073Z",
     "start_time": "2021-05-30T03:21:33.028657Z"
    },
    "deletable": false,
    "execution": {
     "iopub.execute_input": "2024-03-03T10:53:40.279823Z",
     "iopub.status.busy": "2024-03-03T10:53:40.279563Z",
     "iopub.status.idle": "2024-03-03T10:53:40.285690Z",
     "shell.execute_reply": "2024-03-03T10:53:40.284679Z",
     "shell.execute_reply.started": "2024-03-03T10:53:40.279799Z"
    },
    "nbgrader": {
     "cell_type": "code",
     "checksum": "db5d1bf94191e904b90893c7b7918a57",
     "grade": false,
     "grade_id": "cell-702732e11f1d52be",
     "locked": false,
     "schema_version": 3,
     "solution": true,
     "task": false
    },
    "tags": []
   },
   "outputs": [],
   "source": [
    "def daily_mem_usage():\n",
    "    # YOUR CODE HERE\n",
    "    raise NotImplementedError()"
   ]
  },
  {
   "cell_type": "code",
   "execution_count": null,
   "metadata": {
    "ExecuteTime": {
     "end_time": "2021-05-30T03:35:47.099145Z",
     "start_time": "2021-05-30T03:35:47.073184Z"
    },
    "deletable": false,
    "editable": false,
    "execution": {
     "iopub.execute_input": "2024-03-03T10:53:40.286825Z",
     "iopub.status.busy": "2024-03-03T10:53:40.286604Z",
     "iopub.status.idle": "2024-03-03T10:53:40.309485Z",
     "shell.execute_reply": "2024-03-03T10:53:40.307581Z",
     "shell.execute_reply.started": "2024-03-03T10:53:40.286805Z"
    },
    "nbgrader": {
     "cell_type": "code",
     "checksum": "68f728ec2f0a9bca24d4aa8e42e55353",
     "grade": true,
     "grade_id": "cell-875a1de1e6697679",
     "locked": true,
     "points": 1,
     "schema_version": 3,
     "solution": false,
     "task": false
    },
    "tags": []
   },
   "outputs": [],
   "source": [
    "dmu = daily_mem_usage()\n",
    "assert_equal(\n",
    "    dmu.index[:2].tolist(),\n",
    "    [pd.Period('2021-05-27', 'D'), pd.Period('2021-05-28', 'D')]\n",
    ")\n",
    "assert_allclose(\n",
    "    dmu[:2].tolist(),\n",
    "    [390154853588.5283, 346686658616.8889]\n",
    ")"
   ]
  },
  {
   "cell_type": "markdown",
   "metadata": {
    "deletable": false,
    "editable": false,
    "nbgrader": {
     "cell_type": "markdown",
     "checksum": "a97413d619a6b47c38562f1e42fa3e5e",
     "grade": false,
     "grade_id": "cell-1e930d4d2fb0129d",
     "locked": true,
     "schema_version": 3,
     "solution": false,
     "task": false
    }
   },
   "source": [
    "## Problem 4\n",
    "\n",
    "Create a function `longest_distances` that reads the first 1M data lines of `/mnt/data/public/nyctaxi/trip_data/trip_data_1.csv` and returns a `pandas.Series` containing the maximum `trip_distance` for each pickup hour of day and passenger count. The index is a hierarchical index of `pickup_datetime` and `passenger_count`."
   ]
  },
  {
   "cell_type": "code",
   "execution_count": null,
   "metadata": {
    "ExecuteTime": {
     "end_time": "2021-05-28T08:08:50.137898Z",
     "start_time": "2021-05-28T08:08:50.133219Z"
    },
    "deletable": false,
    "execution": {
     "iopub.execute_input": "2024-03-03T10:53:40.311306Z",
     "iopub.status.busy": "2024-03-03T10:53:40.310887Z",
     "iopub.status.idle": "2024-03-03T10:53:40.318165Z",
     "shell.execute_reply": "2024-03-03T10:53:40.316948Z",
     "shell.execute_reply.started": "2024-03-03T10:53:40.311222Z"
    },
    "nbgrader": {
     "cell_type": "code",
     "checksum": "678c8cc77fad3fc240ec952fee0a1409",
     "grade": false,
     "grade_id": "cell-5f238bcbd72181a3",
     "locked": false,
     "schema_version": 3,
     "solution": true,
     "task": false
    },
    "tags": []
   },
   "outputs": [],
   "source": [
    "def longest_distances():\n",
    "    # YOUR CODE HERE\n",
    "    raise NotImplementedError()"
   ]
  },
  {
   "cell_type": "code",
   "execution_count": null,
   "metadata": {
    "ExecuteTime": {
     "end_time": "2021-05-28T08:08:52.875187Z",
     "start_time": "2021-05-28T08:08:50.140184Z"
    },
    "deletable": false,
    "editable": false,
    "execution": {
     "iopub.execute_input": "2024-03-03T10:53:40.322547Z",
     "iopub.status.busy": "2024-03-03T10:53:40.321877Z",
     "iopub.status.idle": "2024-03-03T10:53:44.738683Z",
     "shell.execute_reply": "2024-03-03T10:53:44.736653Z",
     "shell.execute_reply.started": "2024-03-03T10:53:40.322502Z"
    },
    "nbgrader": {
     "cell_type": "code",
     "checksum": "3d0576b907efc6bdc295b432959b9bbb",
     "grade": true,
     "grade_id": "cell-edd54e2dfb967fd5",
     "locked": true,
     "points": 1,
     "schema_version": 3,
     "solution": false,
     "task": false
    },
    "tags": []
   },
   "outputs": [],
   "source": [
    "distances = longest_distances()\n",
    "assert_equal(isinstance(distances, pd.core.series.Series), True)\n",
    "assert_equal(distances.shape, (149,))\n",
    "assert_equal(distances.index.levshape, (24, 7))\n",
    "assert_equal(distances.index.names, ['pickup_datetime', 'passenger_count'])"
   ]
  },
  {
   "cell_type": "markdown",
   "metadata": {
    "deletable": false,
    "editable": false,
    "nbgrader": {
     "cell_type": "markdown",
     "checksum": "4d4f59af9792800c849fd5de2fadbf44",
     "grade": false,
     "grade_id": "cell-b6c3cb3d9e2d7d3c",
     "locked": true,
     "schema_version": 3,
     "solution": false,
     "task": false
    }
   },
   "source": [
    "## Problem 5\n",
    "Create a function `mean_ratings` that reads `/mnt/data/public/insideairbnb/data.insideairbnb.com/united-kingdom/england/london/2015-04-06/data/listings.csv.gz` and returns a `pandas.Series` containing the average `review_scores_ratings` of hosts, binned by monthly `host_since`. Ignore `NA`s or null values when computing the mean."
   ]
  },
  {
   "cell_type": "code",
   "execution_count": null,
   "metadata": {
    "ExecuteTime": {
     "end_time": "2021-05-28T08:08:52.882968Z",
     "start_time": "2021-05-28T08:08:52.878352Z"
    },
    "deletable": false,
    "execution": {
     "iopub.execute_input": "2024-03-03T10:53:44.745021Z",
     "iopub.status.busy": "2024-03-03T10:53:44.742563Z",
     "iopub.status.idle": "2024-03-03T10:53:44.758459Z",
     "shell.execute_reply": "2024-03-03T10:53:44.756535Z",
     "shell.execute_reply.started": "2024-03-03T10:53:44.744916Z"
    },
    "nbgrader": {
     "cell_type": "code",
     "checksum": "aafcc7cd6c93c2a252892d727c0b09a6",
     "grade": false,
     "grade_id": "cell-990d37718690cffb",
     "locked": false,
     "schema_version": 3,
     "solution": true,
     "task": false
    },
    "tags": []
   },
   "outputs": [],
   "source": [
    "def mean_ratings():\n",
    "    # YOUR CODE HERE\n",
    "    raise NotImplementedError()"
   ]
  },
  {
   "cell_type": "code",
   "execution_count": null,
   "metadata": {
    "ExecuteTime": {
     "end_time": "2021-05-28T08:08:53.867847Z",
     "start_time": "2021-05-28T08:08:52.884167Z"
    },
    "deletable": false,
    "editable": false,
    "execution": {
     "iopub.execute_input": "2024-03-03T10:53:44.761798Z",
     "iopub.status.busy": "2024-03-03T10:53:44.760982Z",
     "iopub.status.idle": "2024-03-03T10:53:45.860903Z",
     "shell.execute_reply": "2024-03-03T10:53:45.859172Z",
     "shell.execute_reply.started": "2024-03-03T10:53:44.761722Z"
    },
    "nbgrader": {
     "cell_type": "code",
     "checksum": "858aff6938229afb1032540e507da2f8",
     "grade": true,
     "grade_id": "cell-1c32dec1fa166f06",
     "locked": true,
     "points": 1,
     "schema_version": 3,
     "solution": false,
     "task": false
    },
    "tags": []
   },
   "outputs": [],
   "source": [
    "import datetime\n",
    "ratings = mean_ratings()\n",
    "assert_equal(isinstance(ratings, pd.core.series.Series), True)\n",
    "assert_equal(ratings.shape, (80,))\n",
    "assert_equal(ratings.index[0], datetime.datetime(2008, 9, 30))\n",
    "assert_equal(ratings.index[-1], datetime.datetime(2015, 4, 30))"
   ]
  },
  {
   "cell_type": "markdown",
   "metadata": {
    "deletable": false,
    "editable": false,
    "nbgrader": {
     "cell_type": "markdown",
     "checksum": "ddf03169abd3837ee1db43c779e82390",
     "grade": false,
     "grade_id": "cell-c7aa9df0e919d86a",
     "locked": true,
     "schema_version": 3,
     "solution": false,
     "task": false
    }
   },
   "source": [
    "## Problem 6\n",
    "\n",
    "Create a function `product_aisles` that reads `/mnt/data/public/instacart/instacart_2017_05_01/products.csv` and returns a `pandas.DataFrame`. The data frame should have the contents of that file but with an additional column `aisle` that corresponds to the name of the aisle according to `/mnt/data/public/instacart/instacart_2017_05_01/aisles.csv`. The index should be the `product_id` column."
   ]
  },
  {
   "cell_type": "code",
   "execution_count": null,
   "metadata": {
    "ExecuteTime": {
     "end_time": "2021-05-28T08:08:53.872713Z",
     "start_time": "2021-05-28T08:08:53.869737Z"
    },
    "deletable": false,
    "execution": {
     "iopub.execute_input": "2024-03-03T10:53:45.862861Z",
     "iopub.status.busy": "2024-03-03T10:53:45.862499Z",
     "iopub.status.idle": "2024-03-03T10:53:45.870352Z",
     "shell.execute_reply": "2024-03-03T10:53:45.868823Z",
     "shell.execute_reply.started": "2024-03-03T10:53:45.862828Z"
    },
    "nbgrader": {
     "cell_type": "code",
     "checksum": "4fe14609303219a5b27ab1420b8553d4",
     "grade": false,
     "grade_id": "cell-40c2bc95fd97b5af",
     "locked": false,
     "schema_version": 3,
     "solution": true
    },
    "tags": []
   },
   "outputs": [],
   "source": [
    "def product_aisles():\n",
    "    # YOUR CODE HERE\n",
    "    raise NotImplementedError()"
   ]
  },
  {
   "cell_type": "code",
   "execution_count": null,
   "metadata": {
    "ExecuteTime": {
     "end_time": "2021-05-28T08:08:53.944142Z",
     "start_time": "2021-05-28T08:08:53.874399Z"
    },
    "deletable": false,
    "editable": false,
    "execution": {
     "iopub.execute_input": "2024-03-03T10:53:45.871879Z",
     "iopub.status.busy": "2024-03-03T10:53:45.871525Z",
     "iopub.status.idle": "2024-03-03T10:53:45.971285Z",
     "shell.execute_reply": "2024-03-03T10:53:45.969442Z",
     "shell.execute_reply.started": "2024-03-03T10:53:45.871841Z"
    },
    "nbgrader": {
     "cell_type": "code",
     "checksum": "9830f8a10fe6d493b2e08590d1457d08",
     "grade": true,
     "grade_id": "cell-4e4a5307f3124e7c",
     "locked": true,
     "points": 1,
     "schema_version": 3,
     "solution": false,
     "task": false
    },
    "tags": []
   },
   "outputs": [],
   "source": [
    "df_products_aisles = product_aisles()\n",
    "assert_equal(isinstance(df_products_aisles, pd.DataFrame), True)\n",
    "assert_equal(\n",
    "    df_products_aisles.columns.tolist(), \n",
    "    ['product_name', 'aisle_id', 'department_id', 'aisle'])\n",
    "assert_equal(df_products_aisles.shape, (49688, 4))"
   ]
  },
  {
   "cell_type": "markdown",
   "metadata": {
    "deletable": false,
    "editable": false,
    "nbgrader": {
     "cell_type": "markdown",
     "checksum": "3c61599c67ee7b6cdc16622b12936f8b",
     "grade": false,
     "grade_id": "cell-fbd761467bffbe89",
     "locked": true,
     "schema_version": 3,
     "solution": false,
     "task": false
    }
   },
   "source": [
    "## Problem 7\n",
    "\n",
    "Create a function `tracks_with_loc` that reads `/mnt/data/public/millionsong/AdditionalFiles/unique_tracks.txt` and returns a `pandas` `DataFrame` that contains the contents of the file but with the artist location from `/mnt/data/public/millionsong/AdditionalFiles/artist_location.txt` matched based on the artist name. Leave the value as null if the artist is not found in `artist_location.txt`. Use the first entry in the file if an artist has more than one location. Sort the data frame by increasing track ID."
   ]
  },
  {
   "cell_type": "code",
   "execution_count": null,
   "metadata": {
    "ExecuteTime": {
     "end_time": "2021-05-28T08:08:53.950512Z",
     "start_time": "2021-05-28T08:08:53.946653Z"
    },
    "deletable": false,
    "execution": {
     "iopub.execute_input": "2024-03-03T10:53:45.973423Z",
     "iopub.status.busy": "2024-03-03T10:53:45.972955Z",
     "iopub.status.idle": "2024-03-03T10:53:45.981441Z",
     "shell.execute_reply": "2024-03-03T10:53:45.980084Z",
     "shell.execute_reply.started": "2024-03-03T10:53:45.973378Z"
    },
    "nbgrader": {
     "cell_type": "code",
     "checksum": "56f14e154ce6f0898a9f2fd1909165a9",
     "grade": false,
     "grade_id": "cell-378eb694f1a79212",
     "locked": false,
     "schema_version": 3,
     "solution": true,
     "task": false
    },
    "tags": []
   },
   "outputs": [],
   "source": [
    "def tracks_with_loc():\n",
    "    # YOUR CODE HERE\n",
    "    raise NotImplementedError()"
   ]
  },
  {
   "cell_type": "code",
   "execution_count": null,
   "metadata": {
    "ExecuteTime": {
     "end_time": "2021-05-28T08:09:00.476990Z",
     "start_time": "2021-05-28T08:08:53.952140Z"
    },
    "deletable": false,
    "editable": false,
    "execution": {
     "iopub.execute_input": "2024-03-03T10:53:45.983333Z",
     "iopub.status.busy": "2024-03-03T10:53:45.982960Z",
     "iopub.status.idle": "2024-03-03T10:53:52.301971Z",
     "shell.execute_reply": "2024-03-03T10:53:52.299892Z",
     "shell.execute_reply.started": "2024-03-03T10:53:45.983296Z"
    },
    "nbgrader": {
     "cell_type": "code",
     "checksum": "a665c504a5acf1d1a82b639b1f9d56bd",
     "grade": true,
     "grade_id": "cell-74c5a21523df3512",
     "locked": true,
     "points": 1,
     "schema_version": 3,
     "solution": false
    },
    "tags": []
   },
   "outputs": [],
   "source": [
    "df_tracks_loc = tracks_with_loc()\n",
    "assert_equal(isinstance(df_tracks_loc, pd.DataFrame), True)\n",
    "assert_equal(df_tracks_loc.shape, (1000000, 8))\n",
    "assert_equal(\n",
    "    df_tracks_loc.columns.tolist(), \n",
    "    ['track_id', 'song_id', 'artist', 'title', \n",
    "     'artist_id', 'lat', 'lon', 'location'])"
   ]
  },
  {
   "cell_type": "markdown",
   "metadata": {
    "deletable": false,
    "editable": false,
    "nbgrader": {
     "cell_type": "markdown",
     "checksum": "9dd90ad4d49acbb2484154ae2ad3c410",
     "grade": false,
     "grade_id": "cell-023ea14c96e6474c",
     "locked": true,
     "schema_version": 3,
     "solution": false,
     "task": false
    }
   },
   "source": [
    "## Problem 8\n",
    "Create a function `party_votes` that reads `/mnt/data/public/elections/comelec/congress_results/congressional_results_2013.csv` and returns a `pandas` `DataFrame` where the index is the `province_or_city`, the columns are the `party_affiliation` and the values are the total number of votes as integer."
   ]
  },
  {
   "cell_type": "code",
   "execution_count": null,
   "metadata": {
    "ExecuteTime": {
     "end_time": "2021-05-28T08:09:00.482318Z",
     "start_time": "2021-05-28T08:09:00.479005Z"
    },
    "deletable": false,
    "execution": {
     "iopub.execute_input": "2024-03-03T10:53:52.304913Z",
     "iopub.status.busy": "2024-03-03T10:53:52.304571Z",
     "iopub.status.idle": "2024-03-03T10:53:52.310284Z",
     "shell.execute_reply": "2024-03-03T10:53:52.309416Z",
     "shell.execute_reply.started": "2024-03-03T10:53:52.304888Z"
    },
    "nbgrader": {
     "cell_type": "code",
     "checksum": "3710d7ba5bfcfa98b6c9fb671f784ce1",
     "grade": false,
     "grade_id": "cell-c5bd8a8963f5b048",
     "locked": false,
     "schema_version": 3,
     "solution": true
    },
    "tags": []
   },
   "outputs": [],
   "source": [
    "def party_votes():\n",
    "    # YOUR CODE HERE\n",
    "    raise NotImplementedError()"
   ]
  },
  {
   "cell_type": "code",
   "execution_count": null,
   "metadata": {
    "ExecuteTime": {
     "end_time": "2021-05-28T08:09:00.511670Z",
     "start_time": "2021-05-28T08:09:00.483707Z"
    },
    "deletable": false,
    "editable": false,
    "execution": {
     "iopub.execute_input": "2024-03-03T10:53:52.311521Z",
     "iopub.status.busy": "2024-03-03T10:53:52.311296Z",
     "iopub.status.idle": "2024-03-03T10:53:52.339868Z",
     "shell.execute_reply": "2024-03-03T10:53:52.338926Z",
     "shell.execute_reply.started": "2024-03-03T10:53:52.311500Z"
    },
    "nbgrader": {
     "cell_type": "code",
     "checksum": "28d447638cf5c86b84fc4e50ee25d3c9",
     "grade": true,
     "grade_id": "cell-c609d570f23233cf",
     "locked": true,
     "points": 1,
     "schema_version": 3,
     "solution": false
    },
    "tags": []
   },
   "outputs": [],
   "source": [
    "df_votes = party_votes()\n",
    "assert_equal(isinstance(df_votes, pd.DataFrame), True)\n",
    "assert_equal(df_votes.shape, (108, 24))\n",
    "assert_equal((df_votes.dtypes == int).all(), True)\n",
    "assert_equal(df_votes.index[0], 'Abra')\n",
    "assert_equal(df_votes.columns[0], 'BPP')\n",
    "assert_equal(df_votes.iloc[0,0], 0)"
   ]
  },
  {
   "cell_type": "markdown",
   "metadata": {
    "deletable": false,
    "editable": false,
    "nbgrader": {
     "cell_type": "markdown",
     "checksum": "b7d7dc91132d96781c279c02b72bef52",
     "grade": false,
     "grade_id": "cell-ac495330205fc00b",
     "locked": true,
     "schema_version": 3,
     "solution": false,
     "task": false
    }
   },
   "source": [
    "## Problem 9\n",
    "Create a function `naia_traffic` that reads `/mnt/data/public/opendata/transport/caap-aircraft/airdata_aircraft_movement_2016.csv` and returns the number of passengers per month, as integer, for every `airline_operator` in `NAIA` as a `pandas` `DataFrame`. The months should be in title case."
   ]
  },
  {
   "cell_type": "code",
   "execution_count": null,
   "metadata": {
    "ExecuteTime": {
     "end_time": "2021-05-28T08:09:00.517014Z",
     "start_time": "2021-05-28T08:09:00.513258Z"
    },
    "deletable": false,
    "execution": {
     "iopub.execute_input": "2024-03-03T10:53:52.341148Z",
     "iopub.status.busy": "2024-03-03T10:53:52.340892Z",
     "iopub.status.idle": "2024-03-03T10:53:52.347176Z",
     "shell.execute_reply": "2024-03-03T10:53:52.346203Z",
     "shell.execute_reply.started": "2024-03-03T10:53:52.341124Z"
    },
    "nbgrader": {
     "cell_type": "code",
     "checksum": "b0b2c5be79f5bb9b05636957dea41f06",
     "grade": false,
     "grade_id": "cell-27d7c6647b2e5fc3",
     "locked": false,
     "schema_version": 3,
     "solution": true
    },
    "tags": []
   },
   "outputs": [],
   "source": [
    "def naia_traffic():\n",
    "    # YOUR CODE HERE\n",
    "    raise NotImplementedError()"
   ]
  },
  {
   "cell_type": "code",
   "execution_count": null,
   "metadata": {
    "ExecuteTime": {
     "end_time": "2021-05-28T08:09:00.538612Z",
     "start_time": "2021-05-28T08:09:00.518222Z"
    },
    "deletable": false,
    "editable": false,
    "execution": {
     "iopub.execute_input": "2024-03-03T10:53:52.348389Z",
     "iopub.status.busy": "2024-03-03T10:53:52.348167Z",
     "iopub.status.idle": "2024-03-03T10:53:52.406746Z",
     "shell.execute_reply": "2024-03-03T10:53:52.404767Z",
     "shell.execute_reply.started": "2024-03-03T10:53:52.348368Z"
    },
    "nbgrader": {
     "cell_type": "code",
     "checksum": "990973526d80d29c11fdcf4811533f13",
     "grade": true,
     "grade_id": "cell-c75134a88e986f33",
     "locked": true,
     "points": 1,
     "schema_version": 3,
     "solution": false
    },
    "tags": []
   },
   "outputs": [],
   "source": [
    "df_naia = naia_traffic()\n",
    "assert_equal(isinstance(df_naia, pd.DataFrame), True)\n",
    "assert_equal(\n",
    "    df_naia.columns.tolist(), \n",
    "    ['airline_operator', 'month', 'passengers'])\n",
    "assert_equal(df_naia.shape, (36, 3))\n",
    "df_naia_list = df_naia.to_numpy().tolist()\n",
    "assert_equal(['Domestic', 'April', 13517] in df_naia_list, True)\n",
    "assert_equal(['G. Aviation', 'April', 3586] in df_naia_list, True)\n",
    "assert_equal(['International', 'April', 8587] in df_naia_list, True)"
   ]
  },
  {
   "cell_type": "markdown",
   "metadata": {
    "deletable": false,
    "editable": false,
    "nbgrader": {
     "cell_type": "markdown",
     "checksum": "d25efed198aa3056f0408fe0ef127313",
     "grade": false,
     "grade_id": "cell-7220c2a9919a7cba",
     "locked": true,
     "schema_version": 3,
     "solution": false,
     "task": false
    }
   },
   "source": [
    "## Problem 10\n",
    "\n",
    "Create a function `pudo` that reads the first 1M data lines of `/mnt/data/public/nyctaxi/all/yellow_tripdata_2017-12.csv` and returns a `pandas` `DataFrame` where the index is the unique values of `PULocationID`, the columns are the unique values of `DOLocationID`, and the values are the number of times the `PULocationID`-`DOLocationID` pair occurred."
   ]
  },
  {
   "cell_type": "code",
   "execution_count": null,
   "metadata": {
    "ExecuteTime": {
     "end_time": "2021-05-28T08:09:00.543514Z",
     "start_time": "2021-05-28T08:09:00.540198Z"
    },
    "deletable": false,
    "execution": {
     "iopub.execute_input": "2024-03-03T10:53:52.408212Z",
     "iopub.status.busy": "2024-03-03T10:53:52.407914Z",
     "iopub.status.idle": "2024-03-03T10:53:52.414489Z",
     "shell.execute_reply": "2024-03-03T10:53:52.413094Z",
     "shell.execute_reply.started": "2024-03-03T10:53:52.408184Z"
    },
    "nbgrader": {
     "cell_type": "code",
     "checksum": "effabf30a40ab342a46a7ba1985c7ce7",
     "grade": false,
     "grade_id": "cell-5107e45cf1b18dd9",
     "locked": false,
     "schema_version": 3,
     "solution": true,
     "task": false
    },
    "tags": []
   },
   "outputs": [],
   "source": [
    "def pudo():\n",
    "    # YOUR CODE HERE\n",
    "    raise NotImplementedError()"
   ]
  },
  {
   "cell_type": "code",
   "execution_count": null,
   "metadata": {
    "ExecuteTime": {
     "end_time": "2021-05-28T08:09:01.472144Z",
     "start_time": "2021-05-28T08:09:00.545095Z"
    },
    "deletable": false,
    "editable": false,
    "execution": {
     "iopub.execute_input": "2024-03-03T10:53:52.415799Z",
     "iopub.status.busy": "2024-03-03T10:53:52.415537Z",
     "iopub.status.idle": "2024-03-03T10:53:54.449000Z",
     "shell.execute_reply": "2024-03-03T10:53:54.446938Z",
     "shell.execute_reply.started": "2024-03-03T10:53:52.415774Z"
    },
    "nbgrader": {
     "cell_type": "code",
     "checksum": "9087cd2661aba18bc040e7b6ac5a48a9",
     "grade": true,
     "grade_id": "cell-b20289a550a9cad2",
     "locked": true,
     "points": 1,
     "schema_version": 3,
     "solution": false,
     "task": false
    },
    "tags": []
   },
   "outputs": [],
   "source": [
    "df_pudo = pudo()\n",
    "assert_equal(df_pudo.shape, (243, 261))\n",
    "assert_equal(df_pudo.index[:10].tolist(), [1, 3, 4, 5, 6, 7, 8, 9, 10, 11])\n",
    "nonzeros = df_pudo.to_numpy().nonzero()\n",
    "assert_equal(nonzeros[0][:10], [0, 0, 0, 1, 1, 1, 1, 1, 1, 2])\n",
    "assert_equal(nonzeros[1][:10], [0, 128, 260, 2, 31, 68, 133, 155, 164, 0])\n",
    "assert_equal(\n",
    "    df_pudo.iloc[0][:10].to_numpy(), \n",
    "    [86,  0,  0,  0,  0,  0,  0,  0,  0,  0])"
   ]
  },
  {
   "cell_type": "markdown",
   "metadata": {},
   "source": [
    "<img src=\"images/banner-down.png\" style=\"width: 100%;\">"
   ]
  }
 ],
 "metadata": {
  "kernelspec": {
   "display_name": "Python 3 (ipykernel)",
   "language": "python",
   "name": "python3"
  },
  "language_info": {
   "codemirror_mode": {
    "name": "ipython",
    "version": 3
   },
   "file_extension": ".py",
   "mimetype": "text/x-python",
   "name": "python",
   "nbconvert_exporter": "python",
   "pygments_lexer": "ipython3",
   "version": "3.10.12"
  }
 },
 "nbformat": 4,
 "nbformat_minor": 4
}
